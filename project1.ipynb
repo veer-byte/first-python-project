{
 "cells": [
  {
   "cell_type": "markdown",
   "metadata": {},
   "source": [
    "Write a code to reverse a string"
   ]
  },
  {
   "cell_type": "code",
   "execution_count": 4,
   "metadata": {},
   "outputs": [
    {
     "name": "stdout",
     "output_type": "stream",
     "text": [
      "olleh\n"
     ]
    }
   ],
   "source": [
    "# Write a code to reverse a string\n",
    "a = str(input())\n",
    "reverse_string = a[::-1]\n",
    "print(reverse_string)"
   ]
  },
  {
   "cell_type": "markdown",
   "metadata": {},
   "source": [
    "Write a code to count the number of vowels in a string"
   ]
  },
  {
   "cell_type": "code",
   "execution_count": 38,
   "metadata": {},
   "outputs": [
    {
     "name": "stdout",
     "output_type": "stream",
     "text": [
      "o o \n",
      "number of vowels in string:2\n"
     ]
    }
   ],
   "source": [
    "h = str(input('type please'))\n",
    "oo = []\n",
    "for i in h:\n",
    "    if i in ('a', 'i', 'e', 'u', 'o'):\n",
    "        print(i,end=' ',flush = True)\n",
    "        import time \n",
    "        time.sleep(1)\n",
    "        oo.append(i)\n",
    "print()\n",
    "print('number of vowels in string:', end = '')\n",
    "print(len(oo))\n",
    "\n",
    "\n"
   ]
  },
  {
   "cell_type": "markdown",
   "metadata": {},
   "source": [
    "Write a code to check if a given string is a palindrome or not"
   ]
  },
  {
   "cell_type": "code",
   "execution_count": 17,
   "metadata": {},
   "outputs": [
    {
     "name": "stdout",
     "output_type": "stream",
     "text": [
      "yes it's palindrome\n"
     ]
    }
   ],
   "source": [
    "j = str(input('type please'))\n",
    "if j == j[::-1]:\n",
    "    print('yes it\\'s palindrome')\n",
    "else:\n",
    "    print(\"sorry, it's not a palindrome\")\n"
   ]
  },
  {
   "cell_type": "markdown",
   "metadata": {},
   "source": [
    "Write a code to check if two given strings are anagrams of each other"
   ]
  },
  {
   "cell_type": "code",
   "execution_count": 1,
   "metadata": {},
   "outputs": [
    {
     "name": "stdout",
     "output_type": "stream",
     "text": [
      "So sorry, not an anagram.\n"
     ]
    }
   ],
   "source": [
    "jk = input('Enter first word')\n",
    "jf = input('Enter second word')\n",
    "ladakh = sorted(jk.lower())  \n",
    "kenaddy = sorted(jf.lower()) \n",
    "if ladakh == kenaddy:\n",
    "    print(\"Congratulations! It's an anagram.\")\n",
    "else:\n",
    "    print(\"So sorry, not an anagram.\")\n"
   ]
  },
  {
   "cell_type": "markdown",
   "metadata": {},
   "source": [
    "write a code to find all occurrences of a given substring within another string"
   ]
  },
  {
   "cell_type": "code",
   "execution_count": 15,
   "metadata": {},
   "outputs": [
    {
     "name": "stdout",
     "output_type": "stream",
     "text": [
      "[0, 2, 4]\n"
     ]
    }
   ],
   "source": [
    "d = input(\"Enter main string: \")\n",
    "f = input(\"Enter substring: \")\n",
    "\n",
    "b = []\n",
    "start = 0  # To track search position\n",
    "\n",
    "while start < len(d):\n",
    "    a = d.find(f, start)  # Find next occurrence\n",
    "    if a == -1:  # If not found, stop\n",
    "        break\n",
    "    b.append(a)  # Store the index\n",
    "    start = a + 1  # Move forward to find next occurrence\n",
    "\n",
    "print(b)  # Output list of positions\n"
   ]
  },
  {
   "cell_type": "markdown",
   "metadata": {},
   "source": [
    "Write a code to perform basic string compression using the counts of repeated characters"
   ]
  },
  {
   "cell_type": "code",
   "execution_count": null,
   "metadata": {},
   "outputs": [
    {
     "name": "stdout",
     "output_type": "stream",
     "text": [
      "Unique characters: ['h', 'j', 'k', 'o', 'a', 'l']\n",
      "Lengths of sequences: [4, 2, 2, 1, 1, 2]\n",
      "Compressed Output: h4j2k2o1a1l2"
     ]
    }
   ],
   "source": [
    "l = input('Enter word: ')  \n",
    "if not l:\n",
    "    print(\"Empty input!\")\n",
    "else:\n",
    "    h = []  \n",
    "    sa = []  \n",
    "    i = 0\n",
    "\n",
    "    while i < len(l):\n",
    "        j = i\n",
    "        g = []\n",
    "        while j < len(l) and l[i] == l[j]:\n",
    "            g.append(l[j])\n",
    "            j += 1\n",
    "        i = j\n",
    "        if g:  \n",
    "            h.append(g[0])\n",
    "            sa.append(len(g))\n",
    "\n",
    "    yu = list(map(lambda x: f\"{x[0]}{x[1]}\", zip(h, sa)))\n",
    "\n",
    "    print(\"Unique characters:\", h)\n",
    "    print(\"Lengths of sequences:\", sa)\n",
    "    print(\"Compressed Output:\", end=\" \")\n",
    "    for op in yu:\n",
    "        print(op, end='') \n"
   ]
  },
  {
   "cell_type": "markdown",
   "metadata": {},
   "source": [
    "Write a code to determine if a string has all unique characters"
   ]
  },
  {
   "cell_type": "code",
   "execution_count": 21,
   "metadata": {},
   "outputs": [
    {
     "name": "stdout",
     "output_type": "stream",
     "text": [
      "all unique\n"
     ]
    }
   ],
   "source": [
    "ad = input()\n",
    "if len(set(ad))== len(ad):\n",
    "    print('all unique')\n",
    "else: print ('not all unique')\n",
    "\n"
   ]
  },
  {
   "cell_type": "code",
   "execution_count": null,
   "metadata": {},
   "outputs": [
    {
     "name": "stdout",
     "output_type": "stream",
     "text": [
      "khhjg ttfh sdfferefhhh\n"
     ]
    }
   ],
   "source": [
    "# Write a code to convert a given string to uppercase or lowercase\n",
    "aD = input()\n",
    "X = aD.lower()\n",
    "print(X)\n",
    "\n"
   ]
  },
  {
   "cell_type": "markdown",
   "metadata": {},
   "source": [
    "Write a code to count the number of words in a string"
   ]
  },
  {
   "cell_type": "code",
   "execution_count": 13,
   "metadata": {},
   "outputs": [
    {
     "name": "stdout",
     "output_type": "stream",
     "text": [
      "19\n"
     ]
    }
   ],
   "source": [
    "HU = input()\n",
    "if not HU: print('enter input')\n",
    "elif HU == ' ': print('invalid input')\n",
    "else:\n",
    "     HU = HU.strip()\n",
    "     fGY = HU.count(' ') + 1\n",
    "     print(fGY)"
   ]
  },
  {
   "cell_type": "markdown",
   "metadata": {},
   "source": [
    "Write a code to concatenate two strings without using the + operator"
   ]
  },
  {
   "cell_type": "code",
   "execution_count": 17,
   "metadata": {},
   "outputs": [
    {
     "name": "stdout",
     "output_type": "stream",
     "text": [
      "hello world\n"
     ]
    }
   ],
   "source": [
    "s1 = input('string 1')\n",
    "s2 = input('string 2')\n",
    "combination = f'{s1} {s2}'\n",
    "print(combination)"
   ]
  },
  {
   "cell_type": "markdown",
   "metadata": {},
   "source": [
    "Write a code to remove all occurrences of a specific element from a list"
   ]
  },
  {
   "cell_type": "code",
   "execution_count": null,
   "metadata": {},
   "outputs": [
    {
     "name": "stdout",
     "output_type": "stream",
     "text": [
      "['world', '1', '6']\n"
     ]
    }
   ],
   "source": [
    "import re\n",
    "\n",
    "def remove_all_occurrences(lst, elements_to_remove):\n",
    "    return [x for x in lst if x not in elements_to_remove]\n",
    "\n",
    "a = input('Enter first string: ')  \n",
    "b = input('Enter second string: ')  \n",
    "a = re.split(r'[ ,]+', a.strip())  \n",
    "b = re.split(r'[ ,]+', b.strip())\n",
    "\n",
    "c = remove_all_occurrences(a, b)\n",
    "\n",
    "print(c)\n"
   ]
  },
  {
   "cell_type": "markdown",
   "metadata": {},
   "source": [
    " Implement a code to find the second largest number in a given list of integers"
   ]
  },
  {
   "cell_type": "code",
   "execution_count": null,
   "metadata": {},
   "outputs": [
    {
     "name": "stdout",
     "output_type": "stream",
     "text": [
      "2\n"
     ]
    }
   ],
   "source": [
    "import re\n",
    "a = input()\n",
    "a = re.split(r'[ ,]+', a.strip()) \n",
    "a.sorted(a, key=int)\n",
    "print(a[-2])"
   ]
  },
  {
   "cell_type": "markdown",
   "metadata": {},
   "source": [
    "Create a code to count the occurrences of each element in a list and return a dictionary with elements as keys and their counts as values"
   ]
  },
  {
   "cell_type": "code",
   "execution_count": 10,
   "metadata": {},
   "outputs": [
    {
     "name": "stdout",
     "output_type": "stream",
     "text": [
      "{'1': 3, 'hello': 2}\n"
     ]
    }
   ],
   "source": [
    "import re\n",
    "nmo = input(\"Enter values separated by spaces or commas: \")\n",
    "nmo = re.split(r'[ ,]+', nmo.strip())\n",
    "nmo.sort()\n",
    "i = 0\n",
    "rockBY = []\n",
    "roxxane = []\n",
    "while i < len(nmo):\n",
    "    j = i\n",
    "    g = []\n",
    "    while j < len(nmo) and nmo[i] == nmo[j]:\n",
    "        g.append(nmo[i])\n",
    "        j += 1\n",
    "        rockBY.append(g[0])\n",
    "        roxxane.append(len(g))\n",
    "    i = j  \n",
    "\n",
    "YU = dict(zip(rockBY, roxxane))\n",
    "print(YU)\n"
   ]
  },
  {
   "cell_type": "markdown",
   "metadata": {},
   "source": [
    "Write a code to reverse a list in-place without using any built-in reverse functions\n"
   ]
  },
  {
   "cell_type": "code",
   "execution_count": 19,
   "metadata": {},
   "outputs": [
    {
     "name": "stdout",
     "output_type": "stream",
     "text": [
      "['king', '7', '6', '5', '4', '3', '2', '1']\n"
     ]
    }
   ],
   "source": [
    "import re\n",
    "hl = input(\"Enter values separated by spaces or commas: \")\n",
    "hl = re.split(r'[ ,]+', hl.strip())\n",
    "ayp = (len(hl))\n",
    "Gl = []\n",
    "for i in range(ayp):\n",
    "    a = hl[-i-1]\n",
    "    Gl.append(a)\n",
    "print(Gl)"
   ]
  },
  {
   "cell_type": "markdown",
   "metadata": {},
   "source": [
    "Implement a code to find and remove duplicates from a list while preserving the original order of \n",
    "elements"
   ]
  },
  {
   "cell_type": "code",
   "execution_count": 24,
   "metadata": {},
   "outputs": [
    {
     "name": "stdout",
     "output_type": "stream",
     "text": [
      "['h', 'gh', '5', '4', '8', '1', '2', '22', '9']\n"
     ]
    }
   ],
   "source": [
    "import re\n",
    "hlO = input(\"Enter values separated by spaces or commas: \")\n",
    "hlO = re.split(r'[ ,]+', hlO.strip())\n",
    "YLO = []\n",
    "koko = set()\n",
    "for i in hlO:\n",
    "    if i not in koko:\n",
    "        YLO.append(i)\n",
    "        koko.add(i)\n",
    "print(YLO)\n"
   ]
  },
  {
   "cell_type": "markdown",
   "metadata": {},
   "source": [
    "Create a code to check if a given list is sorted (either in ascending or descending order) or no"
   ]
  },
  {
   "cell_type": "code",
   "execution_count": 34,
   "metadata": {},
   "outputs": [
    {
     "name": "stdout",
     "output_type": "stream",
     "text": [
      "ascending\n"
     ]
    }
   ],
   "source": [
    "import re\n",
    "gk = input(\"Enter values separated by spaces or commas: \")\n",
    "gk = re.split(r'[ ,]+', gk.strip())\n",
    "if all(item.isdigit() for item in gk):\n",
    "    ak = sorted(gk, key=int)  \n",
    "    dk = sorted(gk, key=int, reverse=True)\n",
    "else:\n",
    "    ak = sorted(gk)\n",
    "    dk = sorted(gk, reverse=True)\n",
    "if gk == ak:\n",
    "    print('ascending')\n",
    "elif gk == dk:\n",
    "    print('descending')\n",
    "else:\n",
    "    print('not sorted')"
   ]
  },
  {
   "cell_type": "markdown",
   "metadata": {},
   "source": [
    "Write a code to merge two sorted lists into a single sorted list"
   ]
  },
  {
   "cell_type": "code",
   "execution_count": 36,
   "metadata": {},
   "outputs": [
    {
     "name": "stdout",
     "output_type": "stream",
     "text": [
      "['1', '2', '3', '4', '5', '10', '20', '30', '40']\n"
     ]
    }
   ],
   "source": [
    "\n",
    "import re\n",
    "qk = input(\"Enter values separated by spaces or commas: \")\n",
    "lk = input(\"Enter values separated by spaces or commas: \")\n",
    "qk = re.split(r'[ ,]+', qk.strip())\n",
    "lk = re.split(r'[ ,]+', lk.strip())\n",
    "if all(item.isdigit() for item in qk) and all(item.isdigit() for item in lk):\n",
    "    qak = sorted(qk, key=int)  \n",
    "    qdk = sorted(qk, key=int, reverse=True)\n",
    "    lak = sorted(lk, key=int)\n",
    "    ldk = sorted(lk, key=int, reverse=True)\n",
    "else:\n",
    "    qak = sorted(qk)\n",
    "    qdk = sorted(qk, reverse=True)\n",
    "    lak = sorted(lk)\n",
    "    ldk = sorted(lk, reverse=True)\n",
    "if [(qk == qak or qk == qdk) and (lk == lak or lk == ldk)] and all(item.isdigit() for item in qk) and all(item.isdigit() for item in lk):\n",
    "    gkhk = qk + lk\n",
    "    gkhk = sorted(gkhk, key=int)\n",
    "    print(gkhk)\n",
    "elif (qk == qak or qk == qdk) and (lk == lak or lk == ldk):\n",
    "    gkhk = qk + lk\n",
    "    gkhk = sorted(gkhk)\n",
    "    print(gkhk)\n",
    "else: print('not sorted')\n",
    "\n"
   ]
  },
  {
   "cell_type": "markdown",
   "metadata": {},
   "source": [
    " Implement a code to find the intersection of two given lists"
   ]
  },
  {
   "cell_type": "code",
   "execution_count": 1,
   "metadata": {},
   "outputs": [
    {
     "name": "stdout",
     "output_type": "stream",
     "text": [
      "['hello', 'john']\n"
     ]
    }
   ],
   "source": [
    "import re\n",
    "yur = input(\"Enter values separated by spaces or commas: \")\n",
    "hur = input(\"Enter values separated by spaces or commas: \")\n",
    "yur = re.split(r'[ ,]+', yur.strip())\n",
    "hur = re.split(r'[ ,]+', hur.strip())\n",
    "gur = []\n",
    "for i in yur:\n",
    "    if i in hur:\n",
    "        gur.append(i)\n",
    "        hur.remove(i)\n",
    "print(gur)"
   ]
  },
  {
   "cell_type": "markdown",
   "metadata": {},
   "source": [
    "Create a code to find the union of two lists without duplicates\n"
   ]
  },
  {
   "cell_type": "code",
   "execution_count": 8,
   "metadata": {},
   "outputs": [
    {
     "name": "stdout",
     "output_type": "stream",
     "text": [
      "{'1', '3', '2'}\n"
     ]
    }
   ],
   "source": [
    "yuru = input(\"Enter values separated by spaces or commas: \")\n",
    "huru = input(\"Enter values separated by spaces or commas: \")\n",
    "yuru = re.split(r'[ ,]+', yuru.strip())\n",
    "huru = re.split(r'[ ,]+', huru.strip())\n",
    "guru = huru + yuru\n",
    "yuru_huru = set(guru)\n",
    "print(yuru_huru)"
   ]
  },
  {
   "cell_type": "markdown",
   "metadata": {},
   "source": [
    "Write a code to shuffle a given list randomly without using any built-in shuffle functions"
   ]
  },
  {
   "cell_type": "code",
   "execution_count": 4,
   "metadata": {},
   "outputs": [
    {
     "name": "stdout",
     "output_type": "stream",
     "text": [
      "{'45', '22', '52', '36', '58'}\n"
     ]
    }
   ],
   "source": [
    "n = input(\"Enter values separated by spaces or commas: \")\n",
    "import re\n",
    "n = re.split(r'[ ,]+', n.strip())\n",
    "def random_list(n):\n",
    "    return set(n)\n",
    "print(random_list(n))"
   ]
  },
  {
   "cell_type": "markdown",
   "metadata": {},
   "source": [
    " Write a code that takes two tuples as input and returns a new tuple containing elements that are \n",
    "common to both input tuples\n"
   ]
  },
  {
   "cell_type": "code",
   "execution_count": null,
   "metadata": {},
   "outputs": [
    {
     "name": "stdout",
     "output_type": "stream",
     "text": [
      "('how', 'u', 'are')\n"
     ]
    }
   ],
   "source": [
    "import re\n",
    "yo_ho = input()\n",
    "ko_ho = input ()\n",
    "yo_ho = re.split(r'[ ,]+', yo_ho.strip())\n",
    "ko_ho = re.split(r'[ ,]+', ko_ho.strip())\n",
    "def intersection(yo_ho, ko_ho):\n",
    "    return tuple(set(yo_ho) & set(ko_ho))\n",
    "print(intersection(yo_ho, ko_ho))"
   ]
  },
  {
   "cell_type": "markdown",
   "metadata": {},
   "source": [
    " Create a code that prompts the user to enter two sets of integers separated by commas. Then, print the \n",
    "intersection of these two sets"
   ]
  },
  {
   "cell_type": "code",
   "execution_count": null,
   "metadata": {},
   "outputs": [
    {
     "name": "stdout",
     "output_type": "stream",
     "text": [
      "{54}\n"
     ]
    }
   ],
   "source": [
    "import re\n",
    "yo_hok = input('only integers separated by commas')\n",
    "ko_hok = input('only integers separated by commas')\n",
    "yo_hok = re.split(r'[ ,]+', yo_hok.strip())\n",
    "ko_hok = re.split(r'[ ,]+', ko_hok.strip())\n",
    "def intersection(yo_hok2, ko_hok2):\n",
    "        return set(yo_hok2) & set(ko_hok2)\n",
    "if ' ' in yo_hok or ' ' in ko_hok:\n",
    "    print('invalid input')\n",
    "else:\n",
    "    print(intersection(yo_hok, ko_hok))   "
   ]
  },
  {
   "cell_type": "markdown",
   "metadata": {},
   "source": [
    "Develop a code that prompts the user to input two sets of strings. Then, print the elements that are \n",
    "present in the first set but not in the second set."
   ]
  },
  {
   "cell_type": "code",
   "execution_count": 22,
   "metadata": {},
   "outputs": [
    {
     "name": "stdout",
     "output_type": "stream",
     "text": [
      "{'84', '54'}\n"
     ]
    }
   ],
   "source": [
    "aws = input('Enter values separated by spaces or commas: ')\n",
    "import re\n",
    "jws = input('Enter values separated by spaces or commas: ')\n",
    "aws = re.split(r'[ ,]+', aws.strip())\n",
    "jws = re.split(r'[ ,]+', jws.strip())\n",
    "def only_aws(aws):\n",
    "    return set(aws)-set(jws)\n",
    "print(only_aws(aws))"
   ]
  },
  {
   "cell_type": "markdown",
   "metadata": {},
   "source": [
    "Create a code that takes a tuple and two integers as input. The function should return a new tuple \n",
    "containing elements from the original tuple within the specified range of indices\n"
   ]
  },
  {
   "cell_type": "code",
   "execution_count": 24,
   "metadata": {},
   "outputs": [
    {
     "name": "stdout",
     "output_type": "stream",
     "text": [
      "invalid input\n"
     ]
    }
   ],
   "source": [
    "uk = input()\n",
    "ouk = int(input())\n",
    "vouk = int(input())\n",
    "if ouk > vouk:\n",
    "    print('invalid input')\n",
    "elif ouk < 0 or vouk < 0:\n",
    "    print('invalid input')\n",
    "elif vouk > len(uk):\n",
    "    print('invalid input')\n",
    "else:\n",
    "    print(uk[ouk:vouk])"
   ]
  },
  {
   "cell_type": "markdown",
   "metadata": {},
   "source": [
    "Write a code that prompts the user to input two sets of characters. Then, print the union of these two sets"
   ]
  },
  {
   "cell_type": "code",
   "execution_count": 26,
   "metadata": {},
   "outputs": [
    {
     "name": "stdout",
     "output_type": "stream",
     "text": [
      "{'nc', 'd', 'r', 'f', 'v', 'kj', 'j', 'g', 'n', 'h', 'nv'}\n"
     ]
    }
   ],
   "source": [
    "import re\n",
    "bk = input('Enter values separated by spaces or commas: ')\n",
    "ck = input('Enter values separated by spaces or commas: ')\n",
    "bk = re.split(r'[ ,]+', bk.strip())\n",
    "ck = re.split(r'[ ,]+', ck.strip())\n",
    "def union_of_bk_and_ck(bk, ck):\n",
    "    return set(bk) | set(ck)\n",
    "print(union_of_bk_and_ck(bk, ck))"
   ]
  },
  {
   "cell_type": "markdown",
   "metadata": {},
   "source": [
    "Develop a code that takes a tuple of integers as input. The function should return the maximum and \n",
    "minimum values from the tuple using tuple unpacking"
   ]
  },
  {
   "cell_type": "code",
   "execution_count": null,
   "metadata": {},
   "outputs": [],
   "source": [
    "def find_min_max(input_tuple):\n",
    "    if not input_tuple:\n",
    "        return (None, None)\n",
    "    \n",
    "    minimum, maximum = input_tuple[0], input_tuple[0]\n",
    "    \n",
    "    for value in input_tuple[1:]:\n",
    "        if value < minimum:\n",
    "            minimum = value\n",
    "        if value > maximum:\n",
    "            maximum = value\n",
    "            \n",
    "    return (minimum, maximum)"
   ]
  },
  {
   "cell_type": "code",
   "execution_count": 3,
   "metadata": {},
   "outputs": [
    {
     "name": "stdout",
     "output_type": "stream",
     "text": [
      "intersection: {4, 5}\n",
      "union {1, 2, 3, 4, 5, 6, 7, 8}\n",
      "symmetric difference: {1, 2, 3, 6, 7, 8}\n"
     ]
    }
   ],
   "source": [
    "set1 = {1, 2, 3, 4, 5}\n",
    "set2 = {4, 5, 6, 7, 8}\n",
    "print('intersection:', set1 & set2)\n",
    "print('union', set1 | set2)\n",
    "print('symmetric difference:', set1 ^ set2)"
   ]
  },
  {
   "cell_type": "markdown",
   "metadata": {},
   "source": [
    " Write a code that takes a tuple and an element as input. The function should return the count of \n",
    "occurrences of the given element in the tuple"
   ]
  },
  {
   "cell_type": "code",
   "execution_count": 14,
   "metadata": {},
   "outputs": [],
   "source": [
    "def element_in_tuple(input_tuple, element):\n",
    "    count = 0\n",
    "    for item in input_tuple:\n",
    "        if item == element:\n",
    "            count += 1\n",
    "    return count"
   ]
  },
  {
   "cell_type": "code",
   "execution_count": 16,
   "metadata": {},
   "outputs": [
    {
     "data": {
      "text/plain": [
       "5"
      ]
     },
     "execution_count": 16,
     "metadata": {},
     "output_type": "execute_result"
    }
   ],
   "source": [
    "element_in_tuple((1, 2, 3, 5, 4, 5, 6, 7, 8,8,8,8,8, 5, 9, 10), 8)\n"
   ]
  },
  {
   "cell_type": "markdown",
   "metadata": {},
   "source": [
    " Develop a code that prompts the user to input two sets of strings. Then, print the symmetric difference of \n",
    "these two set"
   ]
  },
  {
   "cell_type": "code",
   "execution_count": null,
   "metadata": {},
   "outputs": [],
   "source": [
    "import re\n",
    "set1 = input('Enter first set separated by spaces or commas: ')\n",
    "set2 = input('Enter second set separated by spaces or commas: ')\n",
    "set1 = re.split(r'[ ,]+', set1.strip())\n",
    "set2 = re.split(r'[ ,]+', set2.strip())\n",
    "def intersection(set1, set2):\n",
    "    return set(set1) ^ set(set2)"
   ]
  },
  {
   "cell_type": "markdown",
   "metadata": {},
   "source": [
    " Write a code that takes a list of words as input and returns a dictionary where the keys are unique words \n",
    "and the values are the frequencies of those words in the input list"
   ]
  },
  {
   "cell_type": "code",
   "execution_count": 50,
   "metadata": {},
   "outputs": [
    {
     "name": "stdout",
     "output_type": "stream",
     "text": [
      "['h', 'a', 's']\n",
      "{'h': 5, 'a': 2, 's': 1}\n"
     ]
    }
   ],
   "source": [
    "import re\n",
    "input_list = input(\"List of words as input separated by comma and space: \")\n",
    "input_list = re.split(r'[ ,]+', input_list.strip())  \n",
    "l = list(dict.fromkeys(input_list))\n",
    "count = [input_list.count(word) for word in l] \n",
    "ye = dict(zip(l, count))\n",
    "print(l)  \n",
    "print(ye)  "
   ]
  },
  {
   "cell_type": "markdown",
   "metadata": {},
   "source": [
    " Write a code that takes two dictionaries as input and merges them into a single dictionary. If there are \n",
    "common keys, the values should be added together"
   ]
  },
  {
   "cell_type": "code",
   "execution_count": 2,
   "metadata": {},
   "outputs": [],
   "source": [
    "def merge_dicts(dict1, dict2):\n",
    "    merged_dict = dict1.copy()\n",
    "    for key, value in dict2.items():\n",
    "        if key in merged_dict:\n",
    "            merged_dict[key] += value\n",
    "        else:\n",
    "            merged_dict[key] = value\n",
    "\n",
    "    return merged_dict\n"
   ]
  },
  {
   "cell_type": "code",
   "execution_count": 4,
   "metadata": {},
   "outputs": [
    {
     "data": {
      "text/plain": [
       "{'a': 10, 'b': 25, 'c': 45, 'd': 25}"
      ]
     },
     "execution_count": 4,
     "metadata": {},
     "output_type": "execute_result"
    }
   ],
   "source": [
    "dict1 = {'a': 10, 'b': 20, 'c': 30}\n",
    "dict2 = {'b': 5, 'c': 15, 'd': 25}\n",
    "merge_dicts(dict1, dict2)"
   ]
  },
  {
   "cell_type": "markdown",
   "metadata": {},
   "source": [
    " Write a code to access a value in a nested dictionary. The function should take the dictionary and a list of \n",
    "keys as input, and return the corresponding value. If any of the keys do not exist in the dictionary, the \n",
    "function should return None"
   ]
  },
  {
   "cell_type": "code",
   "execution_count": null,
   "metadata": {},
   "outputs": [],
   "source": [
    " def get_nested_value(nested_dict, keys):\n",
    "    current = nested_dict\n",
    "    for key in keys:\n",
    "        if isinstance(current, dict) and key in current:\n",
    "            current = current[key]\n",
    "        else:\n",
    "            return None\n",
    "    return current\n",
    "    "
   ]
  },
  {
   "cell_type": "code",
   "execution_count": null,
   "metadata": {},
   "outputs": [
    {
     "name": "stdout",
     "output_type": "stream",
     "text": [
      "42\n"
     ]
    }
   ],
   "source": [
    "data = {'a': {'b': {'c': 42}}}\n",
    "keys = ['a', 'b', 'c']\n",
    "print(get_nested_value(data, keys))  "
   ]
  },
  {
   "cell_type": "code",
   "execution_count": 10,
   "metadata": {},
   "outputs": [
    {
     "name": "stdout",
     "output_type": "stream",
     "text": [
      "None\n"
     ]
    }
   ],
   "source": [
    "keys = ['a', 'b', 'x']\n",
    "print(get_nested_value(data, keys)) "
   ]
  },
  {
   "cell_type": "code",
   "execution_count": 13,
   "metadata": {},
   "outputs": [
    {
     "name": "stdout",
     "output_type": "stream",
     "text": [
      "2\n"
     ]
    }
   ],
   "source": [
    "hgubv = {'a': 1, 'b': {'c': 2, 'd': 3}, 'e': 4, 'f': {'g': 5, 'h': 6}}\n",
    "print(get_nested_value(hgubv, ['b', 'c']))\n"
   ]
  },
  {
   "cell_type": "markdown",
   "metadata": {},
   "source": [
    " Write a code that takes a dictionary as input and returns a sorted version of it based on the values. You \n",
    "can choose whether to sort in ascending or descending order"
   ]
  },
  {
   "cell_type": "code",
   "execution_count": 31,
   "metadata": {},
   "outputs": [],
   "source": [
    "def sort_dict_by_value(input_dict, reverse=False):\n",
    "    sorted_items = sorted(input_dict.items(), key=lambda item: item[1], reverse=reverse)\n",
    "    return dict((sorted_items))"
   ]
  },
  {
   "cell_type": "code",
   "execution_count": 38,
   "metadata": {},
   "outputs": [
    {
     "data": {
      "text/plain": [
       "{'b': 1, 'c': 2, 'a': 3}"
      ]
     },
     "execution_count": 38,
     "metadata": {},
     "output_type": "execute_result"
    }
   ],
   "source": [
    "input_dict = {'a': 3, 'b': 1, 'c': 2}\n",
    "sort_dict_by_value(input_dict)"
   ]
  },
  {
   "cell_type": "markdown",
   "metadata": {},
   "source": [
    "Write a code that inverts a dictionary, swapping keys and values. Ensure that the inverted dictionary \n",
    "correctly handles cases where multiple keys have the same value by storing the keys as a list in the \n",
    "inverted dictionary"
   ]
  },
  {
   "cell_type": "code",
   "execution_count": 15,
   "metadata": {},
   "outputs": [],
   "source": [
    "def invert_dict(r):\n",
    "    inverted = {}\n",
    "    for key, value in r.items():\n",
    "        if value in inverted:\n",
    "            inverted[value].append(key)\n",
    "        else:\n",
    "            inverted[value] = [key]\n",
    "    return inverted"
   ]
  },
  {
   "cell_type": "code",
   "execution_count": 19,
   "metadata": {},
   "outputs": [
    {
     "data": {
      "text/plain": [
       "{1: ['a'], 2: ['b'], 3: ['c']}"
      ]
     },
     "execution_count": 19,
     "metadata": {},
     "output_type": "execute_result"
    }
   ],
   "source": [
    "my_dict1 = {\"a\": 1, \"b\": 2, \"c\": 3}\n",
    "inverted_dict1 = invert_dict(my_dict1)\n",
    "inverted_dict1"
   ]
  },
  {
   "cell_type": "code",
   "execution_count": 20,
   "metadata": {},
   "outputs": [
    {
     "data": {
      "text/plain": [
       "{1: ['a', 'c'], 2: ['b']}"
      ]
     },
     "execution_count": 20,
     "metadata": {},
     "output_type": "execute_result"
    }
   ],
   "source": [
    "my_dict2 = {\"a\": 1, \"b\": 2, \"c\": 1}\n",
    "inverted_dict2 = invert_dict(my_dict2)\n",
    "inverted_dict2"
   ]
  },
  {
   "cell_type": "code",
   "execution_count": null,
   "metadata": {},
   "outputs": [],
   "source": []
  }
 ],
 "metadata": {
  "kernelspec": {
   "display_name": "Python 3",
   "language": "python",
   "name": "python3"
  },
  "language_info": {
   "codemirror_mode": {
    "name": "ipython",
    "version": 3
   },
   "file_extension": ".py",
   "mimetype": "text/x-python",
   "name": "python",
   "nbconvert_exporter": "python",
   "pygments_lexer": "ipython3",
   "version": "3.13.2"
  }
 },
 "nbformat": 4,
 "nbformat_minor": 2
}
